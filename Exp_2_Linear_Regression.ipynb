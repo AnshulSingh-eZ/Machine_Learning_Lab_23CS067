{
  "cells": [
    {
      "cell_type": "markdown",
      "metadata": {
        "id": "view-in-github",
        "colab_type": "text"
      },
      "source": [
        "<a href=\"https://colab.research.google.com/github/AnshulSingh-eZ/Machine_Learning_Lab_23CS067/blob/main/Exp_2_Linear_Regression.ipynb\" target=\"_parent\"><img src=\"https://colab.research.google.com/assets/colab-badge.svg\" alt=\"Open In Colab\"/></a>"
      ]
    },
    {
      "cell_type": "code",
      "execution_count": 14,
      "metadata": {
        "id": "mDUADcqDFjgD",
        "colab": {
          "base_uri": "https://localhost:8080/"
        },
        "outputId": "57773ca2-ecbe-4d7a-9292-2ea4e1267ab4"
      },
      "outputs": [
        {
          "output_type": "stream",
          "name": "stdout",
          "text": [
            "[[ 1.          2.619365   -0.67152023 ... -0.36118401 -0.07599796\n",
            "  -1.25254316]\n",
            " [ 1.          2.53956878 -0.57326437 ... -0.26186523 -0.09940441\n",
            "  -1.08148298]\n",
            " [ 1.          2.4946834  -0.90546278 ... -0.95535424 -0.99925206\n",
            "  -1.17010515]\n",
            " ...\n",
            " [ 1.         -2.36291168  2.90780067 ... -0.16167524 -0.11760942\n",
            "  -0.44666313]\n",
            " [ 1.         -2.36291168  2.88908527 ... -0.1146295  -0.06039367\n",
            "  -0.99778717]\n",
            " [ 1.         -2.387848    2.29955006 ... -0.54326844 -0.60134255\n",
            "  -0.45536288]]\n",
            "[207300.91235294 -86499.60728226 -91744.05083061  14483.29860201\n",
            " -18263.60700749  49587.33777166 -44178.15153005  17470.57604338\n",
            "  77291.55314914]\n"
          ]
        }
      ],
      "source": [
        "import numpy as np\n",
        "import pandas as pd\n",
        "import seaborn as sns\n",
        "\n",
        "train = pd.read_csv('california_housing_train.csv')\n",
        "test = pd.read_csv('california_housing_test.csv')\n",
        "\n",
        "x_train = train.drop(columns='median_house_value').values\n",
        "y_train = train['median_house_value'].values\n",
        "\n",
        "x_test = test.drop(columns='median_house_value').values\n",
        "y_test = test['median_house_value'].values\n",
        "\n",
        "\n",
        "from sklearn.preprocessing import StandardScaler\n",
        "obj = StandardScaler()\n",
        "x_train_scaled = obj.fit_transform(x_train)\n",
        "\n",
        "ones = np.ones((x_train.shape[0], 1))\n",
        "x_intercept = np.hstack((ones, x_train_scaled))\n",
        "print(x_intercept)\n",
        "\n",
        "def normaleq(x_train, y_train):\n",
        "    x_transpose = x_train.T\n",
        "    # theta = np.linalg.pinv(x_transpose.dot(x_train)).dot(x_transpose).dot(y_train)\n",
        "    theta = np.linalg.pinv(x_transpose @ x_train) @ x_transpose @ y_train\n",
        "    return theta\n",
        "theta = normaleq(x_intercept, y_train)\n",
        "print(theta)\n",
        "\n",
        "def calcmse(x_train, y, theta):\n",
        "  pred_y = x_train.dot(theta)\n",
        "  error = pred_y - y\n",
        "  loss = np.mean(error ** 2)\n",
        "  return loss\n",
        "\n"
      ]
    },
    {
      "cell_type": "code",
      "source": [
        "def gradient(X, y, theta):\n",
        "    n = len(y)\n",
        "    return (1 / n) * X.T.dot(X @ theta - y)\n",
        "\n",
        "def gradient_descent(x, y, alpha=0.01, itr=10, tol=1e-6):\n",
        "  n_features = x.shape[1]\n",
        "  theta = np.zeros(n_features)\n",
        "  loses = []\n",
        "  for i in range(itr):\n",
        "    grad = gradient(x,y,theta)\n",
        "    theta = theta-alpha*grad\n",
        "    loss = calcmse(x, y, theta)\n",
        "    loses.append(loss)\n",
        "\n",
        "    if i>0 and abs(loses[-2] - loses[-1]) < tol:\n",
        "      print(\"Early Stop!!\")\n",
        "      break\n",
        "  return theta, loses"
      ],
      "metadata": {
        "id": "nO50sg48nE8h"
      },
      "execution_count": 15,
      "outputs": []
    },
    {
      "cell_type": "code",
      "source": [
        "def mse(y_true, y_pred):\n",
        "    return np.mean((y_true - y_pred) ** 2)\n",
        "\n",
        "def rmse(y_true, y_pred):\n",
        "    return np.sqrt(mse(y_true, y_pred))\n",
        "\n",
        "def mae(y_true, y_pred):\n",
        "    return np.mean(np.abs(y_true - y_pred))\n",
        "\n",
        "def r2(y_true, y_pred):\n",
        "    ss_res = np.sum((y_true - y_pred) ** 2)\n",
        "    ss_tot = np.sum((y_true - np.mean(y_true)) ** 2)\n",
        "    return 1 - (ss_res / ss_tot)\n",
        "\n",
        "y_train_pred = x_intercept @ theta\n",
        "x_test_scaled = obj.transform(x_test)\n",
        "ones_test = np.ones((x_test.shape[0], 1))\n",
        "x_test_intercept = np.hstack((ones_test, x_test_scaled))\n",
        "y_test_pred = x_test_intercept @ theta\n",
        "\n",
        "print(\"Normal Eqn - Train Performance:\")\n",
        "print(\"MSE :\", mse(y_train, y_train_pred))\n",
        "print(\"RMSE:\", rmse(y_train, y_train_pred))\n",
        "print(\"MAE :\", mae(y_train, y_train_pred))\n",
        "print(\"R²  :\", r2(y_train, y_train_pred))\n",
        "\n",
        "print(\"\\nNormal Eqn - Test Performance:\")\n",
        "print(\"MSE :\", mse(y_test, y_test_pred))\n",
        "print(\"RMSE:\", rmse(y_test, y_test_pred))\n",
        "print(\"MAE :\", mae(y_test, y_test_pred))\n",
        "print(\"R²  :\", r2(y_test, y_test_pred))\n",
        "\n",
        "\n",
        "theta_gd, losses = gradient_descent(x_intercept, y_train, alpha=0.01, itr=1000)\n",
        "\n",
        "y_train_pred_gd = x_intercept @ theta_gd\n",
        "y_test_pred_gd = x_test_intercept @ theta_gd\n",
        "\n",
        "print(\"\\nGradient Descent - Train Performance:\")\n",
        "print(\"MSE :\", mse(y_train, y_train_pred_gd))\n",
        "print(\"RMSE:\", rmse(y_train, y_train_pred_gd))\n",
        "print(\"MAE :\", mae(y_train, y_train_pred_gd))\n",
        "print(\"R²  :\", r2(y_train, y_train_pred_gd))\n",
        "\n",
        "print(\"\\nGradient Descent - Test Performance:\")\n",
        "print(\"MSE :\", mse(y_test, y_test_pred_gd))\n",
        "print(\"RMSE:\", rmse(y_test, y_test_pred_gd))\n",
        "print(\"MAE :\", mae(y_test, y_test_pred_gd))\n",
        "print(\"R²  :\", r2(y_test, y_test_pred_gd))\n"
      ],
      "metadata": {
        "colab": {
          "base_uri": "https://localhost:8080/"
        },
        "id": "hNKCUphg0xuW",
        "outputId": "7c9d51cc-60ce-41ef-e6ff-20ff5abbedf8"
      },
      "execution_count": 18,
      "outputs": [
        {
          "output_type": "stream",
          "name": "stdout",
          "text": [
            "Normal Eqn - Train Performance:\n",
            "MSE : 4824523173.926898\n",
            "RMSE: 69458.78759326927\n",
            "MAE : 50795.85711786373\n",
            "R²  : 0.6413378529502689\n",
            "\n",
            "Normal Eqn - Test Performance:\n",
            "MSE : 4867205486.928865\n",
            "RMSE: 69765.36022216803\n",
            "MAE : 50352.228257942916\n",
            "R²  : 0.6195057678311999\n",
            "\n",
            "Gradient Descent - Train Performance:\n",
            "MSE : 5132650101.902222\n",
            "RMSE: 71642.51602157913\n",
            "MAE : 52526.2091496474\n",
            "R²  : 0.618431244034239\n",
            "\n",
            "Gradient Descent - Test Performance:\n",
            "MSE : 5149828415.410274\n",
            "RMSE: 71762.30497559477\n",
            "MAE : 51945.741288744866\n",
            "R²  : 0.5974116946603373\n"
          ]
        }
      ]
    },
    {
      "cell_type": "code",
      "source": [
        "import matplotlib.pyplot as plt\n",
        "theta, loses = gradient_descent(x_train, y_train, 0.1, 500)\n",
        "plt.plot(loses, 'r')\n",
        "plt.xlabel(\"Iterations\")\n",
        "plt.ylabel(\"Loss\")\n",
        "plt.title(\"Training Loss Curve (No Scaling)\")\n",
        "plt.show()\n",
        "theta, loses = gradient_descent(x_train_scaled, y_train, 0.1, 500)\n",
        "plt.plot(loses, 'g')\n",
        "plt.xlabel(\"Iterations\")\n",
        "plt.ylabel(\"Loss\")\n",
        "plt.title(\"Training Loss Curve (Scaled)\")\n",
        "plt.show()"
      ],
      "metadata": {
        "colab": {
          "base_uri": "https://localhost:8080/",
          "height": 1000
        },
        "id": "EmjJ2ssInE48",
        "outputId": "c9c262f6-2932-4753-faee-9cdf20e7a4e0"
      },
      "execution_count": 20,
      "outputs": [
        {
          "output_type": "stream",
          "name": "stderr",
          "text": [
            "/tmp/ipython-input-581776315.py:34: RuntimeWarning: overflow encountered in square\n",
            "  loss = np.mean(error ** 2)\n",
            "/tmp/ipython-input-1007476934.py:15: RuntimeWarning: invalid value encountered in scalar subtract\n",
            "  if i>0 and abs(loses[-2] - loses[-1]) < tol:\n",
            "/tmp/ipython-input-1007476934.py:11: RuntimeWarning: invalid value encountered in subtract\n",
            "  theta = theta-alpha*grad\n"
          ]
        },
        {
          "output_type": "display_data",
          "data": {
            "text/plain": [
              "<Figure size 640x480 with 1 Axes>"
            ],
            "image/png": "[encoded data removed]"
          },
          "metadata": {}
        },
        {
          "output_type": "display_data",
          "data": {
            "text/plain": [
              "<Figure size 640x480 with 1 Axes>"
            ],
            "image/png": "[encoded data removed]"
          },
          "metadata": {}
        }
      ]
    },
    {
      "cell_type": "code",
      "source": [
        "from sklearn.linear_model import LinearRegression\n",
        "from sklearn.metrics import mean_squared_error, mean_absolute_error, r2_score\n",
        "\n",
        "x_test_scaled = obj.transform(x_test)\n",
        "ones_test = np.ones((x_test_scaled.shape[0], 1))\n",
        "x_test_intercept = np.hstack((ones_test, x_test_scaled))\n",
        "\n",
        "lr = LinearRegression(fit_intercept=False)\n",
        "lr.fit(x_intercept, y_train)\n",
        "y_train_lr = lr.predict(x_intercept)\n",
        "y_test_lr = lr.predict(x_test_intercept)\n",
        "\n",
        "\n",
        "def print_metrics(y_true_train, y_pred_train, y_true_test, y_pred_test, model_name):\n",
        "    print(f\"{model_name} - Train:\")\n",
        "    mse_train = mean_squared_error(y_true_train, y_pred_train)\n",
        "    print(\"MSE :\", mse_train)\n",
        "    print(\"RMSE:\", np.sqrt(mse_train))\n",
        "    print(\"MAE :\", mean_absolute_error(y_true_train, y_pred_train))\n",
        "    print(\"R²  :\", r2_score(y_true_train, y_pred_train))\n",
        "    print()\n",
        "    print(f\"{model_name} - Test:\")\n",
        "    mse_test = mean_squared_error(y_true_test, y_pred_test)\n",
        "    print(\"MSE :\", mse_test)\n",
        "    print(\"RMSE:\", np.sqrt(mse_test))\n",
        "    print(\"MAE :\", mean_absolute_error(y_true_test, y_pred_test))\n",
        "    print(\"R²  :\", r2_score(y_true_test, y_pred_test))\n",
        "\n",
        "print_metrics(y_train, y_train_lr, y_test, y_test_lr, \"LinearRegression\")\n"
      ],
      "metadata": {
        "id": "EhipS0t3nE0G",
        "colab": {
          "base_uri": "https://localhost:8080/"
        },
        "outputId": "1050df56-3aea-4597-ea86-80b66cadf8f1"
      },
      "execution_count": 27,
      "outputs": [
        {
          "output_type": "stream",
          "name": "stdout",
          "text": [
            "LinearRegression - Train:\n",
            "MSE : 4824523173.926899\n",
            "RMSE: 69458.78759326928\n",
            "MAE : 50795.85711786377\n",
            "R²  : 0.6413378529502689\n",
            "LinearRegression - Test:\n",
            "MSE : 4867205486.928866\n",
            "RMSE: 69765.36022216803\n",
            "MAE : 50352.22825794297\n",
            "R²  : 0.6195057678311999\n"
          ]
        }
      ]
    },
    {
      "cell_type": "code",
      "source": [],
      "metadata": {
        "id": "H59Kl111nEvU"
      },
      "execution_count": null,
      "outputs": []
    },
    {
      "cell_type": "code",
      "source": [],
      "metadata": {
        "id": "LFY7wGD7oDDb"
      },
      "execution_count": null,
      "outputs": []
    },
    {
      "cell_type": "code",
      "source": [],
      "metadata": {
        "id": "PdIl-P9VoDA5"
      },
      "execution_count": null,
      "outputs": []
    }
  ],
  "metadata": {
    "colab": {
      "provenance": [],
      "authorship_tag": "ABX9TyMAzFsPA4T5NSjRVSXhXTvW",
      "include_colab_link": true
    },
    "kernelspec": {
      "display_name": "Python 3",
      "name": "python3"
    },
    "language_info": {
      "name": "python"
    }
  },
  "nbformat": 4,
  "nbformat_minor": 0
}